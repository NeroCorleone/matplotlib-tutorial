{
 "cells": [
  {
   "cell_type": "markdown",
   "metadata": {},
   "source": [
    "# Exercise: Tweaking the plot\n",
    "\n",
    "- Use the same sample \"experiment\" data shown in the previous notebook\n",
    "- Goal: get familiar with the `ax.plot` API, understand which parameters control which properties\n"
   ]
  },
  {
   "cell_type": "code",
   "execution_count": null,
   "metadata": {},
   "outputs": [],
   "source": [
    "import matplotlib.pyplot as plt"
   ]
  },
  {
   "cell_type": "code",
   "execution_count": null,
   "metadata": {},
   "outputs": [],
   "source": [
    "x = [1, 2, 3, 4, 5, 6]\n",
    "y = [1, 4, 9, 16, 25, 36]"
   ]
  },
  {
   "cell_type": "code",
   "execution_count": null,
   "metadata": {},
   "outputs": [],
   "source": [
    "fig, ax = plt.subplots()\n",
    "ax.plot(x, y)"
   ]
  },
  {
   "cell_type": "markdown",
   "metadata": {},
   "source": [
    "## Linestyle and markers\n",
    "\n",
    "- Try to set different linestyles and different markers"
   ]
  },
  {
   "cell_type": "code",
   "execution_count": null,
   "metadata": {},
   "outputs": [],
   "source": [
    "# TODO tweak code/add your code here\n",
    "\n",
    "fig, ax = plt.subplots()\n",
    "ax.plot(x, y)"
   ]
  },
  {
   "cell_type": "markdown",
   "metadata": {},
   "source": [
    "## Labels\n",
    "\n",
    "- Play around with the x and y labels\n",
    "  - Change the **location** of the label\n",
    "  - Change the label **text**, e.g. make the font size larger, change the font style, ..."
   ]
  },
  {
   "cell_type": "code",
   "execution_count": null,
   "metadata": {},
   "outputs": [],
   "source": [
    "# TODO tweak code/add your code here\n",
    "\n",
    "fig, ax = plt.subplots()\n",
    "ax.plot(x, y)"
   ]
  },
  {
   "cell_type": "markdown",
   "metadata": {},
   "source": [
    "## Legend\n",
    "\n",
    "- Change the **location** of the legend"
   ]
  },
  {
   "cell_type": "code",
   "execution_count": null,
   "metadata": {},
   "outputs": [],
   "source": [
    "# TODO tweak code/add your code here\n",
    "\n",
    "fig, ax = plt.subplots()\n",
    "ax.plot(x, y)"
   ]
  },
  {
   "cell_type": "markdown",
   "metadata": {},
   "source": [
    "## Other plotting interfaces\n",
    "\n",
    "### Scatter plots\n",
    "\n",
    "https://matplotlib.org/stable/api/_as_gen/matplotlib.axes.Axes.scatter.html#matplotlib.axes.Axes.scatter\n",
    "\n",
    "- Explore scatter plots with `ax.scatter` \n",
    "  - Useful when we want to control the parameters of each individual data point\n",
    "- Try setting the **size** of each point\n",
    "- Try setting the **color** of each point using e.g. colormaps:\n",
    "\n",
    "\n",
    "```python\n",
    "import matplotlib as mpl\n",
    "\n",
    "cmap = mpl.colormaps[\"plasma\"]\n",
    "cmap\n",
    "```\n"
   ]
  },
  {
   "cell_type": "code",
   "execution_count": null,
   "metadata": {},
   "outputs": [],
   "source": [
    "import matplotlib as mpl\n",
    "import numpy as np\n",
    "\n",
    "size = 10* np.array([2, 4, 6, 8, 10, 12])\n",
    "\n",
    "# You can find other available colormaps in the documentation:\n",
    "# https://matplotlib.org/stable/users/explain/colors/colormaps.html\n",
    "\n",
    "cmap = mpl.colormaps[\"plasma\"]\n",
    "cmap"
   ]
  },
  {
   "cell_type": "code",
   "execution_count": null,
   "metadata": {},
   "outputs": [],
   "source": [
    "# TODO tweak code/add your code here\n",
    "\n",
    "fig, ax = plt.subplots()\n",
    "# ax.scatter(...)"
   ]
  },
  {
   "cell_type": "markdown",
   "metadata": {},
   "source": [
    "## Bar plots\n",
    "\n",
    "- Explore bar plots with `ax.bar`\n",
    "- e.g. try decreasing the default **bar width**\n",
    "\n",
    "Imagine we are counting the pets of kids in a school class and want to visualize the results of our measurement.\n",
    "\n",
    "- Assume that each x value represents a categorical variable, e.g. a kind of pet\n",
    "- Assume that each y value represents the number of times a kid had this animal as a pet\n",
    "- **Create a bar plot that shows the results of the pet count.**\n"
   ]
  },
  {
   "cell_type": "code",
   "execution_count": null,
   "metadata": {},
   "outputs": [],
   "source": [
    "# TODO tweak code/add your code here\n",
    "\n",
    "pets = [\"Horse\", \"Bird\", \"Hamster\", \"Rabbit\", \"Cat\", \"Dog\"]\n",
    "\n",
    "fig, ax = plt.subplots()\n",
    "# ax.bar(...)\n"
   ]
  }
 ],
 "metadata": {
  "kernelspec": {
   "display_name": "venv",
   "language": "python",
   "name": "python3"
  },
  "language_info": {
   "codemirror_mode": {
    "name": "ipython",
    "version": 3
   },
   "file_extension": ".py",
   "mimetype": "text/x-python",
   "name": "python",
   "nbconvert_exporter": "python",
   "pygments_lexer": "ipython3",
   "version": "3.12.4"
  }
 },
 "nbformat": 4,
 "nbformat_minor": 2
}
