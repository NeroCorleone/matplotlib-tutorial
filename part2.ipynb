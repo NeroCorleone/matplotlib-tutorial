{
 "cells": [
  {
   "cell_type": "markdown",
   "metadata": {},
   "source": [
    "# Part 2\n",
    "\n",
    "## Wrap-up of the last exercise\n",
    "\n",
    "### General workflow\n",
    "\n",
    "**1. Initialize**\n",
    "\n",
    "```python\n",
    "import matplotlib.pyplot as plt\n",
    "```\n",
    "\n",
    "**2. Prepare**\n",
    "\n",
    "```python\n",
    "x = [...]\n",
    "y = [...]\n",
    "```\n",
    "\n",
    "**3. Render**\n",
    "\n",
    "```python\n",
    "fig, ax = plt.subplots()\n",
    "ax.plot(x, y)\n",
    "```\n",
    "\n",
    "**4. Observe, Analyze, ...** \n",
    "\n",
    "### Cheatsheets\n",
    "\n",
    "- the `matplotlib` docs provide a set of excellent [cheat sheets](https://matplotlib.org/cheatsheets/_images/handout-beginner.png)"
   ]
  },
  {
   "cell_type": "markdown",
   "metadata": {},
   "source": [
    "## Carrying on the conversation with `matplotlib`\n"
   ]
  },
  {
   "cell_type": "markdown",
   "metadata": {},
   "source": [
    "### Plot several data curves into one figure"
   ]
  },
  {
   "cell_type": "code",
   "execution_count": null,
   "metadata": {},
   "outputs": [],
   "source": [
    "import numpy as np\n",
    "import matplotlib.pyplot as plt"
   ]
  },
  {
   "cell_type": "code",
   "execution_count": null,
   "metadata": {},
   "outputs": [],
   "source": [
    "x = np.array([1, 2, 3, 4, 5, 6])\n",
    "y1 = np.array([1, 4, 9, 16, 25, 36])\n",
    "y2 = 0.75 * y1"
   ]
  },
  {
   "cell_type": "code",
   "execution_count": null,
   "metadata": {},
   "outputs": [],
   "source": [
    "fig, ax = plt.subplots()\n",
    "ax.plot(x, y1)\n",
    "ax.plot(x, y2)"
   ]
  },
  {
   "cell_type": "markdown",
   "metadata": {},
   "source": [
    "- More tweaking: chose e.g. different colors for each curve, set the labels, ..."
   ]
  },
  {
   "cell_type": "code",
   "execution_count": null,
   "metadata": {},
   "outputs": [],
   "source": [
    "fig, ax = plt.subplots()\n",
    "ax.plot(x, y1, marker=\"x\", linestyle=\"--\", label=\"Experiment 1\")\n",
    "ax.plot(x, y2, marker=\"^\", linestyle=\":\", label=\"Experiment 2\")\n",
    "ax.legend()"
   ]
  },
  {
   "cell_type": "markdown",
   "metadata": {},
   "source": [
    "### Subplots: A way to divide the canvas\n",
    "\n",
    "- Create two subplots\n",
    "- One way: divide the canvas into rows and columns"
   ]
  },
  {
   "cell_type": "code",
   "execution_count": null,
   "metadata": {},
   "outputs": [],
   "source": [
    "fig, axes = plt.subplots(nrows=2, ncols=1)\n",
    "axes.shape"
   ]
  },
  {
   "cell_type": "code",
   "execution_count": null,
   "metadata": {},
   "outputs": [],
   "source": [
    "# On top of each other: 1 column, 2 rows\n",
    "fig, axes = plt.subplots(nrows=2, ncols=1)\n",
    "ax0, ax1 = axes\n",
    "\n",
    "ax0.plot(x, y1, marker=\"x\", linestyle=\"--\", label=\"Experiment 1\")\n",
    "ax0.legend()\n",
    "\n",
    "ax1.plot(x, y2, marker=\"^\", linestyle=\":\", label=\"Experiment 2\")\n",
    "ax1.legend()"
   ]
  },
  {
   "cell_type": "markdown",
   "metadata": {},
   "source": [
    "- Create two plots next to each other "
   ]
  },
  {
   "cell_type": "code",
   "execution_count": null,
   "metadata": {},
   "outputs": [],
   "source": [
    "# Next to each other: 2 columns, 1 row\n",
    "fig, axes = plt.subplots(nrows=1, ncols=2)\n",
    "ax0, ax1 = axes\n",
    "\n",
    "\n",
    "ax0.plot(x, y1, marker=\"x\", linestyle=\"--\", label=\"Experiment 1\")\n",
    "ax0.legend()\n",
    "\n",
    "ax1.plot(x, y2, marker=\"^\", linestyle=\":\", label=\"Experiment 2\")\n",
    "ax1.legend()"
   ]
  },
  {
   "cell_type": "markdown",
   "metadata": {},
   "source": [
    "### Subplots with shared axes\n",
    "\n",
    "- Make the right plot use the same range of axis as the left one"
   ]
  },
  {
   "cell_type": "code",
   "execution_count": null,
   "metadata": {},
   "outputs": [],
   "source": [
    "# Notice: the right plot uses the same range as the left\n",
    "fig, axes = plt.subplots(nrows=1, ncols=2, sharey=True)\n",
    "ax0, ax1 = axes\n",
    "\n",
    "ax0.plot(x, y1, marker=\"x\", linestyle=\"--\", label=\"Experiment 1\")\n",
    "ax0.legend()\n",
    "\n",
    "ax1.plot(x, y2, marker=\"^\", linestyle=\":\", label=\"Experiment 2\")\n",
    "ax1.legend()"
   ]
  },
  {
   "cell_type": "markdown",
   "metadata": {},
   "source": [
    "- similarly, the x axis can be shared by setting `sharex=True`:\n",
    "```Python\n",
    "fig, axes = plt.subplots(nrows=2, ncols=1, sharex=True)\n",
    "```"
   ]
  },
  {
   "cell_type": "markdown",
   "metadata": {},
   "source": [
    "#### Labels and titles for subplots\n",
    "\n",
    "- We can label the axes independently"
   ]
  },
  {
   "cell_type": "code",
   "execution_count": null,
   "metadata": {},
   "outputs": [],
   "source": [
    "fig, axes = plt.subplots(nrows=1, ncols=2)\n",
    "ax0, ax1 = axes\n",
    "\n",
    "ax0.plot(x, y1, marker=\"x\", linestyle=\"--\")\n",
    "ax0.set_xlabel(\"x\")\n",
    "ax0.set_ylabel(\"y\")\n",
    "\n",
    "ax1.plot(x, y2, marker=\"^\", linestyle=\":\")\n",
    "ax1.set_xlabel(\"x\")\n",
    "ax1.set_ylabel(\"y\")"
   ]
  },
  {
   "cell_type": "markdown",
   "metadata": {},
   "source": [
    "- When the y axis is shared, it makes sense to just label the left one"
   ]
  },
  {
   "cell_type": "code",
   "execution_count": null,
   "metadata": {},
   "outputs": [],
   "source": [
    "fig, axes = plt.subplots(nrows=1, ncols=2, sharey=True)\n",
    "ax0, ax1 = axes\n",
    "\n",
    "ax0.plot(x, y1, marker=\"x\", linestyle=\"--\")\n",
    "ax0.set_ylabel(\"y\")\n",
    "ax0.set_xlabel(\"x\")\n",
    "\n",
    "ax1.plot(x, y2, marker=\"^\", linestyle=\":\")\n",
    "# This does not make sense\n",
    "# ax1.set_ylabel(\"y\")\n",
    "ax1.set_xlabel(\"x\")"
   ]
  },
  {
   "cell_type": "markdown",
   "metadata": {},
   "source": [
    "- Lets add a title"
   ]
  },
  {
   "cell_type": "code",
   "execution_count": null,
   "metadata": {},
   "outputs": [],
   "source": [
    "fig, axes = plt.subplots(nrows=1, ncols=2, sharey=True)\n",
    "ax0, ax1 = axes\n",
    "\n",
    "ax0.plot(x, y1, marker=\"x\", linestyle=\"--\")\n",
    "ax0.set_ylabel(\"y\")\n",
    "ax0.set_xlabel(\"x\")\n",
    "\n",
    "ax1.plot(x, y2, marker=\"^\", linestyle=\":\")\n",
    "# This does not make sense\n",
    "# ax1.set_ylabel(\"y\")\n",
    "ax1.set_xlabel(\"x\")"
   ]
  },
  {
   "cell_type": "code",
   "execution_count": null,
   "metadata": {},
   "outputs": [],
   "source": []
  }
 ],
 "metadata": {
  "kernelspec": {
   "display_name": "venv",
   "language": "python",
   "name": "python3"
  },
  "language_info": {
   "codemirror_mode": {
    "name": "ipython",
    "version": 3
   },
   "file_extension": ".py",
   "mimetype": "text/x-python",
   "name": "python",
   "nbconvert_exporter": "python",
   "pygments_lexer": "ipython3",
   "version": "3.12.4"
  }
 },
 "nbformat": 4,
 "nbformat_minor": 2
}
