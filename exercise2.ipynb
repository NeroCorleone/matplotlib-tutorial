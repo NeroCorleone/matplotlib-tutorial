{
 "cells": [
  {
   "cell_type": "markdown",
   "metadata": {},
   "source": [
    "# Exercise: Plotting Covid data\n",
    "\n",
    "- Data analysis for covid data (cases and deaths)"
   ]
  },
  {
   "cell_type": "markdown",
   "metadata": {},
   "source": [
    "## Data prep"
   ]
  },
  {
   "cell_type": "code",
   "execution_count": null,
   "metadata": {},
   "outputs": [],
   "source": [
    "import pandas as pd"
   ]
  },
  {
   "cell_type": "code",
   "execution_count": null,
   "metadata": {},
   "outputs": [],
   "source": [
    "covid = pd.read_csv(\"data.csv\")\n",
    "covid[\"dateRep\"] = pd.to_datetime(covid[\"dateRep\"], dayfirst=True)"
   ]
  },
  {
   "cell_type": "code",
   "execution_count": null,
   "metadata": {},
   "outputs": [],
   "source": [
    "covid_at = covid[covid[\"countriesAndTerritories\"] == \"Austria\"]\n",
    "covid_at = covid_at.sort_values(by=\"dateRep\")\n",
    "covid_at = covid_at.reset_index(drop=True)"
   ]
  },
  {
   "cell_type": "code",
   "execution_count": null,
   "metadata": {},
   "outputs": [],
   "source": [
    "covid_at.head()"
   ]
  },
  {
   "cell_type": "markdown",
   "metadata": {},
   "source": [
    "## Side note: plotting with `pandas`"
   ]
  },
  {
   "cell_type": "code",
   "execution_count": null,
   "metadata": {},
   "outputs": [],
   "source": [
    "covid_at[\"cases\"].plot()"
   ]
  },
  {
   "cell_type": "code",
   "execution_count": null,
   "metadata": {},
   "outputs": [],
   "source": [
    "covid_at[\"deaths\"].plot()"
   ]
  },
  {
   "cell_type": "markdown",
   "metadata": {},
   "source": [
    "## Plotting Austrian Covid data with `matplotlib`"
   ]
  },
  {
   "cell_type": "code",
   "execution_count": null,
   "metadata": {},
   "outputs": [],
   "source": [
    "import matplotlib.pyplot as plt"
   ]
  },
  {
   "cell_type": "code",
   "execution_count": null,
   "metadata": {},
   "outputs": [],
   "source": [
    "x = covid_at[\"dateRep\"]\n",
    "y_cases = covid_at[\"cases\"]\n",
    "y_deaths = covid_at[\"deaths\"]"
   ]
  },
  {
   "cell_type": "markdown",
   "metadata": {},
   "source": [
    "### Plot cases and deaths into separate subplots\n",
    "\n",
    "Visualize the number of cases and the number of deaths for Covid in Austria in two separate subplots.\n",
    "Some ideas to consider and parameters to play around with:\n",
    "\n",
    "- Size of the figure\n",
    "- Choice of colors for the cases/deaths\n",
    "- Label the curves\n",
    "- Add a figure title\n"
   ]
  },
  {
   "cell_type": "code",
   "execution_count": null,
   "metadata": {},
   "outputs": [],
   "source": [
    "# TODO your solution here"
   ]
  },
  {
   "cell_type": "markdown",
   "metadata": {},
   "source": [
    "### Plot cases and deaths into one canvas\n",
    "\n",
    "Same as above, this time, use one subplot for both curves. \n",
    "\n",
    "Things to consider:\n",
    "- The scale of the data is different, i.e. cases have a way higher range than deaths.\n",
    "  - [Here is one possible way to approach this issue](https://matplotlib.org/stable/api/_as_gen/matplotlib.axes.Axes.twinx.html)\n",
    "- ... the same points as above...\n"
   ]
  },
  {
   "cell_type": "code",
   "execution_count": null,
   "metadata": {},
   "outputs": [],
   "source": [
    "# TODO your solution here\n"
   ]
  },
  {
   "cell_type": "markdown",
   "metadata": {},
   "source": [
    "### Plot cases of several countries\n",
    "\n",
    "Chose a selection of 3-5 countries and plot their cases or death data into one common plot.\n"
   ]
  },
  {
   "cell_type": "code",
   "execution_count": null,
   "metadata": {},
   "outputs": [],
   "source": [
    "covid[\"geoId\"].unique()\n",
    "\n",
    "geo_ids = [\"AT\", \"DE\", \"PL\", \"IT\"]\n",
    "select = covid[covid[\"geoId\"].isin(geo_ids)]"
   ]
  },
  {
   "cell_type": "code",
   "execution_count": null,
   "metadata": {},
   "outputs": [],
   "source": [
    "# TODO your solution here\n"
   ]
  },
  {
   "cell_type": "markdown",
   "metadata": {},
   "source": [
    "### Total deaths per country\n",
    "\n",
    "Visualize the total deaths per country using e.g. a bar plot."
   ]
  },
  {
   "cell_type": "code",
   "execution_count": null,
   "metadata": {},
   "outputs": [],
   "source": [
    "deaths_per_country = covid[[\"countriesAndTerritories\", \"deaths\"]].groupby(by=[\"countriesAndTerritories\"]).sum()\n",
    "deaths_per_country = deaths_per_country.sort_values(by=\"deaths\")"
   ]
  },
  {
   "cell_type": "code",
   "execution_count": null,
   "metadata": {},
   "outputs": [],
   "source": [
    "x = deaths_per_country.index.values\n",
    "y = deaths_per_country[\"deaths\"].values"
   ]
  },
  {
   "cell_type": "code",
   "execution_count": null,
   "metadata": {},
   "outputs": [],
   "source": [
    "# TODO your solution here\n"
   ]
  },
  {
   "cell_type": "markdown",
   "metadata": {},
   "source": [
    "### Percental deaths per country \n",
    "\n",
    "Use a [pie plot](https://matplotlib.org/stable/api/_as_gen/matplotlib.axes.Axes.pie.html) to visualize the percentual share of deaths for a selection of countries.\n"
   ]
  },
  {
   "cell_type": "code",
   "execution_count": null,
   "metadata": {},
   "outputs": [],
   "source": [
    "import numpy as np"
   ]
  },
  {
   "cell_type": "code",
   "execution_count": null,
   "metadata": {},
   "outputs": [],
   "source": [
    "deaths_per_country[\"deaths_percentual\"] = np.round(deaths_per_country[\"deaths\"] / deaths_per_country[\"deaths\"].sum(), 2)\n",
    "select = deaths_per_country[deaths_per_country[\"deaths_percentual\"] > 0.02]"
   ]
  },
  {
   "cell_type": "code",
   "execution_count": null,
   "metadata": {},
   "outputs": [],
   "source": [
    "x = select.index\n",
    "y = select[\"deaths_percentual\"].values"
   ]
  },
  {
   "cell_type": "code",
   "execution_count": null,
   "metadata": {},
   "outputs": [],
   "source": [
    "x = select.index\n",
    "y = select[\"deaths_percentual\"].values"
   ]
  },
  {
   "cell_type": "code",
   "execution_count": null,
   "metadata": {},
   "outputs": [],
   "source": [
    "# TODO your solution here\n"
   ]
  }
 ],
 "metadata": {
  "kernelspec": {
   "display_name": "venv",
   "language": "python",
   "name": "python3"
  },
  "language_info": {
   "codemirror_mode": {
    "name": "ipython",
    "version": 3
   },
   "file_extension": ".py",
   "mimetype": "text/x-python",
   "name": "python",
   "nbconvert_exporter": "python",
   "pygments_lexer": "ipython3",
   "version": "3.12.4"
  }
 },
 "nbformat": 4,
 "nbformat_minor": 2
}
